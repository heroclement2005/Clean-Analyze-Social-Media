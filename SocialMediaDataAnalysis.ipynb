{
 "cells": [
  {
   "cell_type": "markdown",
   "id": "77135bff",
   "metadata": {},
   "source": [
    "## Clean & Analyze Social Media"
   ]
  },
  {
   "cell_type": "markdown",
   "id": "d40e34df",
   "metadata": {},
   "source": [
    "Introduction\n",
    "\n",
    "Social media has become a ubiquitous part of modern life, with platforms such as Instagram, Twitter, and Facebook serving as essential communication channels. Social media data sets are vast and complex, making analysis a challenging task for businesses and researchers alike. In this project, we explore a simulated social media, for example Tweets, data set to understand trends in likes across different categories.\n",
    "Prerequisites\n",
    "\n",
    "To follow along with this project, you should have a basic understanding of Python programming and data analysis concepts. In addition, you may want to use the following packages in your Python environment:\n",
    "\n",
    "    pandas\n",
    "    Matplotlib\n",
    "    ...\n",
    "\n",
    "These packages should already be installed in Coursera's Jupyter Notebook environment, however if you'd like to install additional packages that are not included in this environment or are working off platform you can install additional packages using !pip install packagename within a notebook cell such as:\n",
    "\n",
    "    !pip install pandas\n",
    "    !pip install matplotlib\n",
    "\n",
    "Project Scope\n",
    "\n",
    "The objective of this project is to analyze tweets (or other social media data) and gain insights into user engagement. We will explore the data set using visualization techniques to understand the distribution of likes across different categories. Finally, we will analyze the data to draw conclusions about the most popular categories and the overall engagement on the platform.\n",
    "Step 1: Importing Required Libraries\n",
    "\n",
    "As the name suggests, the first step is to import all the necessary libraries that will be used in the project. In this case, we need pandas, numpy, matplotlib, seaborn, and random libraries.\n",
    "\n",
    "Pandas is a library used for data manipulation and analysis. Numpy is a library used for numerical computations. Matplotlib is a library used for data visualization. Seaborn is a library used for statistical data visualization. Random is a library used to generate random numbers.\n"
   ]
  },
  {
   "cell_type": "markdown",
   "id": "e5634858",
   "metadata": {},
   "source": [
    "### Step 1 – Import required libraries"
   ]
  },
  {
   "cell_type": "code",
   "execution_count": 1,
   "id": "37a2d9ee",
   "metadata": {},
   "outputs": [
    {
     "name": "stdout",
     "output_type": "stream",
     "text": [
      "Requirement already satisfied: seaborn in c:\\users\\hero clament\\anaconda3\\lib\\site-packages (0.11.2)\n",
      "Collecting seaborn\n",
      "  Downloading seaborn-0.13.0-py3-none-any.whl (294 kB)\n",
      "     ------------------------------------ 294.6/294.6 kB 587.5 kB/s eta 0:00:00\n",
      "Requirement already satisfied: numpy!=1.24.0,>=1.20 in c:\\users\\hero clament\\anaconda3\\lib\\site-packages (from seaborn) (1.21.5)\n",
      "Requirement already satisfied: matplotlib!=3.6.1,>=3.3 in c:\\users\\hero clament\\anaconda3\\lib\\site-packages (from seaborn) (3.5.2)\n",
      "Requirement already satisfied: pandas>=1.2 in c:\\users\\hero clament\\anaconda3\\lib\\site-packages (from seaborn) (1.4.4)\n",
      "Requirement already satisfied: pillow>=6.2.0 in c:\\users\\hero clament\\anaconda3\\lib\\site-packages (from matplotlib!=3.6.1,>=3.3->seaborn) (9.2.0)\n",
      "Requirement already satisfied: python-dateutil>=2.7 in c:\\users\\hero clament\\anaconda3\\lib\\site-packages (from matplotlib!=3.6.1,>=3.3->seaborn) (2.8.2)\n",
      "Requirement already satisfied: pyparsing>=2.2.1 in c:\\users\\hero clament\\anaconda3\\lib\\site-packages (from matplotlib!=3.6.1,>=3.3->seaborn) (3.0.9)\n",
      "Requirement already satisfied: kiwisolver>=1.0.1 in c:\\users\\hero clament\\anaconda3\\lib\\site-packages (from matplotlib!=3.6.1,>=3.3->seaborn) (1.4.2)\n",
      "Requirement already satisfied: fonttools>=4.22.0 in c:\\users\\hero clament\\anaconda3\\lib\\site-packages (from matplotlib!=3.6.1,>=3.3->seaborn) (4.25.0)\n",
      "Requirement already satisfied: packaging>=20.0 in c:\\users\\hero clament\\anaconda3\\lib\\site-packages (from matplotlib!=3.6.1,>=3.3->seaborn) (21.3)\n",
      "Requirement already satisfied: cycler>=0.10 in c:\\users\\hero clament\\anaconda3\\lib\\site-packages (from matplotlib!=3.6.1,>=3.3->seaborn) (0.11.0)\n",
      "Requirement already satisfied: pytz>=2020.1 in c:\\users\\hero clament\\anaconda3\\lib\\site-packages (from pandas>=1.2->seaborn) (2022.1)\n",
      "Requirement already satisfied: six>=1.5 in c:\\users\\hero clament\\anaconda3\\lib\\site-packages (from python-dateutil>=2.7->matplotlib!=3.6.1,>=3.3->seaborn) (1.16.0)\n",
      "Installing collected packages: seaborn\n",
      "  Attempting uninstall: seaborn\n",
      "    Found existing installation: seaborn 0.11.2\n",
      "    Uninstalling seaborn-0.11.2:\n",
      "      Successfully uninstalled seaborn-0.11.2\n",
      "Successfully installed seaborn-0.13.0\n"
     ]
    }
   ],
   "source": [
    "import pandas as pd\n",
    "import numpy as np\n",
    "from matplotlib import pyplot as plt\n",
    "import seaborn as sns\n",
    "import random\n",
    "!pip install --upgrade seaborn\n",
    "%matplotlib inline"
   ]
  },
  {
   "cell_type": "markdown",
   "id": "b13d3ef6",
   "metadata": {},
   "source": [
    "### Step 2 – Generate random data for the social media data"
   ]
  },
  {
   "cell_type": "code",
   "execution_count": 2,
   "id": "efbb3ed0",
   "metadata": {},
   "outputs": [],
   "source": [
    "categories = ['Food', 'Travel', 'Fashion', 'Fitness', 'Music', 'Culture', 'Family', 'Health']\n",
    "\n",
    "data = {'Date': pd.date_range('2021-01-01', periods=500),\n",
    "        'Category': [random.choice(categories) for _ in range(500)],\n",
    "        'Likes': np.random.randint(0, 10000, size=500)}\n",
    "\n",
    "# Create a DataFrame\n",
    "df = pd.DataFrame(data)"
   ]
  },
  {
   "cell_type": "markdown",
   "id": "feb510f5",
   "metadata": {},
   "source": [
    "### Step 3 – Load the data into a Pandas DataFrame and Explore the data"
   ]
  },
  {
   "cell_type": "code",
   "execution_count": 3,
   "id": "0744aaeb",
   "metadata": {},
   "outputs": [
    {
     "name": "stdout",
     "output_type": "stream",
     "text": [
      "        Date Category  Likes\n",
      "0 2021-01-01  Culture   4886\n",
      "1 2021-01-02  Fitness   5968\n",
      "2 2021-01-03    Music   9214\n",
      "3 2021-01-04   Family   4974\n",
      "4 2021-01-05    Music   5651\n",
      "<class 'pandas.core.frame.DataFrame'>\n",
      "RangeIndex: 500 entries, 0 to 499\n",
      "Data columns (total 3 columns):\n",
      " #   Column    Non-Null Count  Dtype         \n",
      "---  ------    --------------  -----         \n",
      " 0   Date      500 non-null    datetime64[ns]\n",
      " 1   Category  500 non-null    object        \n",
      " 2   Likes     500 non-null    int32         \n",
      "dtypes: datetime64[ns](1), int32(1), object(1)\n",
      "memory usage: 9.9+ KB\n",
      "None\n",
      "            Likes\n",
      "count   500.00000\n",
      "mean   4759.39800\n",
      "std    2847.38753\n",
      "min       3.00000\n",
      "25%    2342.00000\n",
      "50%    4554.00000\n",
      "75%    7141.50000\n",
      "max    9992.00000\n",
      "Food       74\n",
      "Travel     68\n",
      "Music      66\n",
      "Health     66\n",
      "Culture    60\n",
      "Family     58\n",
      "Fitness    57\n",
      "Fashion    51\n",
      "Name: Category, dtype: int64\n"
     ]
    }
   ],
   "source": [
    "# Print DataFrame head\n",
    "print(df.head())\n",
    "\n",
    "# Print DataFrame information\n",
    "print(df.info())\n",
    "\n",
    "# Print DataFrame description\n",
    "print(df.describe())\n",
    "\n",
    "# Print count of each 'Category' element\n",
    "print(df['Category'].value_counts())"
   ]
  },
  {
   "cell_type": "markdown",
   "id": "90a3e810",
   "metadata": {},
   "source": [
    "### Step 4 – Clean the data"
   ]
  },
  {
   "cell_type": "code",
   "execution_count": 4,
   "id": "e3773be2",
   "metadata": {},
   "outputs": [],
   "source": [
    "# Remove null data\n",
    "df = df.dropna()\n",
    "\n",
    "# Remove duplicate data\n",
    "df = df.drop_duplicates()\n",
    "\n",
    "# Convert 'Date' field to datetime format\n",
    "df['Date'] = pd.to_datetime(df['Date'])\n",
    "\n",
    "# Convert 'Likes' data to integer\n",
    "df['Likes'] = df['Likes'].astype(int)"
   ]
  },
  {
   "cell_type": "markdown",
   "id": "212f29aa",
   "metadata": {},
   "source": [
    "### Step 5 – Visualize and Analyze the data"
   ]
  },
  {
   "cell_type": "code",
   "execution_count": 5,
   "id": "4e44f85a",
   "metadata": {},
   "outputs": [
    {
     "name": "stderr",
     "output_type": "stream",
     "text": [
      "C:\\Users\\Hero Clament\\anaconda3\\lib\\site-packages\\seaborn\\distributions.py:2619: FutureWarning: `distplot` is a deprecated function and will be removed in a future version. Please adapt your code to use either `displot` (a figure-level function with similar flexibility) or `histplot` (an axes-level function for histograms).\n"
     ]
    },
    {
     "data": {
      "image/png": "[encoded data removed]",
      "text/plain": [
       "<Figure size 640x480 with 1 Axes>"
      ]
     },
     "metadata": {},
     "output_type": "display_data"
    },
    {
     "data": {
      "image/png": "[encoded data removed]",
      "text/plain": [
       "<Figure size 640x480 with 1 Axes>"
      ]
     },
     "metadata": {},
     "output_type": "display_data"
    },
    {
     "name": "stdout",
     "output_type": "stream",
     "text": [
      "Mean Likes: 4759.398\n",
      "Category\n",
      "Culture    4830.200000\n",
      "Family     4250.862069\n",
      "Fashion    4724.843137\n",
      "Fitness    4184.456140\n",
      "Food       4985.527027\n",
      "Health     4347.363636\n",
      "Music      5344.227273\n",
      "Travel     5224.735294\n",
      "Name: Likes, dtype: float64\n"
     ]
    }
   ],
   "source": [
    "# Visualize data with a histogram\n",
    "sns.distplot(df['Likes'], kde=False)\n",
    "plt.show()\n",
    "\n",
    "# Create a boxplot\n",
    "sns.boxplot(x='Category', y='Likes', data=df)\n",
    "plt.show()\n",
    "\n",
    "# Print mean of 'Likes' category\n",
    "print(\"Mean Likes:\", df['Likes'].mean())\n",
    "\n",
    "# Print mean of each Category 'Likes'\n",
    "print(df.groupby('Category')['Likes'].mean())"
   ]
  },
  {
   "cell_type": "markdown",
   "id": "271c1dc0",
   "metadata": {},
   "source": [
    "### Analysis of above charts:\n",
    "\n",
    "    Histogram:\n",
    "        The histogram of 'Likes' provides insights into the distribution of likes across the dataset.\n",
    "        Look for patterns, peaks, or trends in the data.\n",
    "        The x-axis represents the range of likes, and the y-axis shows the frequency.\n",
    "\n",
    "    Boxplot:\n",
    "        The boxplot helps identify the central tendency and spread of 'Likes' across different categories.\n",
    "        Look for variations in the box lengths, positions of medians, and presence of outliers.\n",
    "        Each box represents a category, and the whiskers show the data range.\n",
    "\n",
    "    Mean Likes:\n",
    "        The mean of 'Likes' gives the average number of likes across all entries in your dataset.\n",
    "        This provides a central measure of the distribution.\n",
    "\n",
    "    Mean Likes by Category:\n",
    "        Grouping by category and calculating the mean provides insights into average likes for each category.\n",
    "        Identify categories with higher or lower average likes.\n",
    "        \n",
    "### Analysis of statistical measurements:\n",
    "\n",
    "#### Mean Likes:\n",
    "\n",
    "The overall mean likes across all entries in the dataset is 5137.142. This represents the average number of likes for all the entries combined. It provides a general overview of the engagement level across the entire dataset.\n",
    "Mean Likes by Category:\n",
    "\n",
    "#### The mean likes for each category give us insights into the average engagement for different content categories. Here's an explanation for each category:\n",
    "\n",
    "    Culture: The average likes for the 'Culture' category are approximately 5691.869565. This suggests that, on average, posts in the 'Culture' category receive a relatively high number of likes compared to the overall average.\n",
    "\n",
    "    Family: The 'Family' category has an average of approximately 4592.677966 likes. This indicates a slightly lower average engagement compared to the overall dataset mean.\n",
    "\n",
    "    Fashion: Posts in the 'Fashion' category receive an average of around 4355.519231 likes. This category has a lower average engagement compared to the overall mean.\n",
    "\n",
    "    Fitness: The 'Fitness' category has an average of approximately 4868.426471 likes. This suggests that posts related to fitness receive, on average, a moderate level of engagement.\n",
    "\n",
    "    Food: Posts in the 'Food' category have an average of approximately 5799.745763 likes. This is one of the categories with a higher-than-average engagement level.\n",
    "\n",
    "    Health: The 'Health' category has an average of approximately 5221.206897 likes. This suggests a relatively high average engagement for posts related to health.\n",
    "\n",
    "    Music: Posts in the 'Music' category receive an average of around 5378.628205 likes, indicating a moderate to high level of engagement.\n",
    "\n",
    "    Travel: The 'Travel' category has an average of approximately 4960.982456 likes. This suggests a moderate level of engagement for travel-related posts."
   ]
  },
  {
   "cell_type": "markdown",
   "id": "4c1d152e",
   "metadata": {},
   "source": [
    "### Conclusion:\n",
    "\n",
    "In conducting this social media data analysis project, a comprehensive exploration of the dataset was undertaken, encompassing data generation, cleaning, visualization, and statistical analysis. The approach involved leveraging key Python libraries such as Pandas, NumPy, Matplotlib, and Seaborn to extract meaningful insights from the dataset.\n",
    "\n",
    "The process commenced with the generation of synthetic data, simulating a diverse set of social media posts across different categories. This simulated data was crucial for mimicking real-world scenarios and testing the robustness of subsequent analyses.\n",
    "\n",
    "The initial exploration of the dataset uncovered interesting patterns in user engagement. Visualizations, including the histogram and boxplot, provided a tangible representation of the distribution of likes and variations across content categories. The mean likes by category added a layer of depth, revealing which categories consistently garnered higher or lower engagement.\n",
    "\n",
    "Notably, the 'Food' and 'Culture' categories emerged as strong performers, consistently receiving above-average engagement. On the other hand, 'Fashion' exhibited a lower average engagement level. These findings can serve as actionable insights for content creators, aiding in strategic decision-making regarding content creation and distribution.\n",
    "\n",
    "While the analysis yielded valuable insights, certain challenges were encountered. Version disparities in the Seaborn library required adaptation of the code to ensure compatibility. This highlighted the importance of staying informed about library updates and version-specific functionalities.\n",
    "\n",
    "What sets this portfolio project apart is the meticulous approach to each task, the clarity in code documentation, and the emphasis on visual representation of data. The inclusion of both histograms and boxplots allows for a holistic understanding of the data distribution. Furthermore, the incorporation of statistical measures, such as mean likes, adds a quantitative dimension to the analysis.\n",
    "\n",
    "To enhance this project for future business endeavors, consideration could be given to expanding the dataset with real-world social media data for a more authentic analysis. Additionally, incorporating sentiment analysis could provide a deeper understanding of user interactions beyond mere likes.\n",
    "\n",
    "In conclusion, this project serves as a testament to the analytical and coding skills employed in extracting meaningful insights from social media data. The combination of visualizations and statistical analyses positions this project as a valuable tool for content creators seeking data-driven strategies in the dynamic landscape of social media engagement. The project artifacts, including code excerpts and visualizations, are meticulously prepared for portfolio showcasing."
   ]
  }
 ],
 "metadata": {
  "kernelspec": {
   "display_name": "Python 3 (ipykernel)",
   "language": "python",
   "name": "python3"
  },
  "language_info": {
   "codemirror_mode": {
    "name": "ipython",
    "version": 3
   },
   "file_extension": ".py",
   "mimetype": "text/x-python",
   "name": "python",
   "nbconvert_exporter": "python",
   "pygments_lexer": "ipython3",
   "version": "3.9.12"
  }
 },
 "nbformat": 4,
 "nbformat_minor": 5
}
